{
 "cells": [
  {
   "cell_type": "markdown",
   "metadata": {},
   "source": [
    "# Spotify Most Streamed Songs\n",
    "\n",
    "#### Import dependancies"
   ]
  },
  {
   "cell_type": "code",
   "execution_count": 34,
   "metadata": {},
   "outputs": [],
   "source": [
    "import numpy as np\n",
    "import pandas as pd\n",
    "import matplotlib.pyplot as plt\n",
    "from scipy import stats"
   ]
  },
  {
   "cell_type": "markdown",
   "metadata": {},
   "source": [
    "## 1. Data Understanding\n",
    "Get first Information about the Datasets structure."
   ]
  },
  {
   "cell_type": "markdown",
   "metadata": {},
   "source": [
    "#### Loading the Dataset"
   ]
  },
  {
   "cell_type": "code",
   "execution_count": 35,
   "metadata": {},
   "outputs": [],
   "source": [
    "df = pd.read_csv('spotify_most_streamed_songs.csv')"
   ]
  },
  {
   "cell_type": "markdown",
   "metadata": {},
   "source": [
    "#### Shape of the Data"
   ]
  },
  {
   "cell_type": "code",
   "execution_count": 36,
   "metadata": {},
   "outputs": [
    {
     "name": "stdout",
     "output_type": "stream",
     "text": [
      "Shape of the DataFrame: (953, 25)\n"
     ]
    }
   ],
   "source": [
    "print(f\"Shape of the DataFrame: {df.shape}\")"
   ]
  },
  {
   "cell_type": "markdown",
   "metadata": {},
   "source": [
    "#### Checking Data Types"
   ]
  },
  {
   "cell_type": "code",
   "execution_count": 37,
   "metadata": {},
   "outputs": [
    {
     "data": {
      "text/plain": [
       "track_name              object\n",
       "artist(s)_name          object\n",
       "artist_count             int64\n",
       "released_year            int64\n",
       "released_month           int64\n",
       "released_day             int64\n",
       "in_spotify_playlists     int64\n",
       "in_spotify_charts        int64\n",
       "streams                 object\n",
       "in_apple_playlists       int64\n",
       "in_apple_charts          int64\n",
       "in_deezer_playlists     object\n",
       "in_deezer_charts         int64\n",
       "in_shazam_charts        object\n",
       "bpm                      int64\n",
       "key                     object\n",
       "mode                    object\n",
       "danceability_%           int64\n",
       "valence_%                int64\n",
       "energy_%                 int64\n",
       "acousticness_%           int64\n",
       "instrumentalness_%       int64\n",
       "liveness_%               int64\n",
       "speechiness_%            int64\n",
       "cover_url               object\n",
       "dtype: object"
      ]
     },
     "execution_count": 37,
     "metadata": {},
     "output_type": "execute_result"
    }
   ],
   "source": [
    "df.dtypes"
   ]
  },
  {
   "cell_type": "markdown",
   "metadata": {},
   "source": [
    "#### View the first five lines of the Dataset"
   ]
  },
  {
   "cell_type": "code",
   "execution_count": 38,
   "metadata": {},
   "outputs": [
    {
     "data": {
      "text/html": [
       "<div>\n",
       "<style scoped>\n",
       "    .dataframe tbody tr th:only-of-type {\n",
       "        vertical-align: middle;\n",
       "    }\n",
       "\n",
       "    .dataframe tbody tr th {\n",
       "        vertical-align: top;\n",
       "    }\n",
       "\n",
       "    .dataframe thead th {\n",
       "        text-align: right;\n",
       "    }\n",
       "</style>\n",
       "<table border=\"1\" class=\"dataframe\">\n",
       "  <thead>\n",
       "    <tr style=\"text-align: right;\">\n",
       "      <th></th>\n",
       "      <th>track_name</th>\n",
       "      <th>artist(s)_name</th>\n",
       "      <th>artist_count</th>\n",
       "      <th>released_year</th>\n",
       "      <th>released_month</th>\n",
       "      <th>released_day</th>\n",
       "      <th>in_spotify_playlists</th>\n",
       "      <th>in_spotify_charts</th>\n",
       "      <th>streams</th>\n",
       "      <th>in_apple_playlists</th>\n",
       "      <th>...</th>\n",
       "      <th>key</th>\n",
       "      <th>mode</th>\n",
       "      <th>danceability_%</th>\n",
       "      <th>valence_%</th>\n",
       "      <th>energy_%</th>\n",
       "      <th>acousticness_%</th>\n",
       "      <th>instrumentalness_%</th>\n",
       "      <th>liveness_%</th>\n",
       "      <th>speechiness_%</th>\n",
       "      <th>cover_url</th>\n",
       "    </tr>\n",
       "  </thead>\n",
       "  <tbody>\n",
       "    <tr>\n",
       "      <th>0</th>\n",
       "      <td>Seven (feat. Latto) (Explicit Ver.)</td>\n",
       "      <td>Latto, Jung Kook</td>\n",
       "      <td>2</td>\n",
       "      <td>2023</td>\n",
       "      <td>7</td>\n",
       "      <td>14</td>\n",
       "      <td>553</td>\n",
       "      <td>147</td>\n",
       "      <td>141381703</td>\n",
       "      <td>43</td>\n",
       "      <td>...</td>\n",
       "      <td>B</td>\n",
       "      <td>Major</td>\n",
       "      <td>80</td>\n",
       "      <td>89</td>\n",
       "      <td>83</td>\n",
       "      <td>31</td>\n",
       "      <td>0</td>\n",
       "      <td>8</td>\n",
       "      <td>4</td>\n",
       "      <td>Not Found</td>\n",
       "    </tr>\n",
       "    <tr>\n",
       "      <th>1</th>\n",
       "      <td>LALA</td>\n",
       "      <td>Myke Towers</td>\n",
       "      <td>1</td>\n",
       "      <td>2023</td>\n",
       "      <td>3</td>\n",
       "      <td>23</td>\n",
       "      <td>1474</td>\n",
       "      <td>48</td>\n",
       "      <td>133716286</td>\n",
       "      <td>48</td>\n",
       "      <td>...</td>\n",
       "      <td>C#</td>\n",
       "      <td>Major</td>\n",
       "      <td>71</td>\n",
       "      <td>61</td>\n",
       "      <td>74</td>\n",
       "      <td>7</td>\n",
       "      <td>0</td>\n",
       "      <td>10</td>\n",
       "      <td>4</td>\n",
       "      <td>https://i.scdn.co/image/ab67616d0000b2730656d5...</td>\n",
       "    </tr>\n",
       "    <tr>\n",
       "      <th>2</th>\n",
       "      <td>vampire</td>\n",
       "      <td>Olivia Rodrigo</td>\n",
       "      <td>1</td>\n",
       "      <td>2023</td>\n",
       "      <td>6</td>\n",
       "      <td>30</td>\n",
       "      <td>1397</td>\n",
       "      <td>113</td>\n",
       "      <td>140003974</td>\n",
       "      <td>94</td>\n",
       "      <td>...</td>\n",
       "      <td>F</td>\n",
       "      <td>Major</td>\n",
       "      <td>51</td>\n",
       "      <td>32</td>\n",
       "      <td>53</td>\n",
       "      <td>17</td>\n",
       "      <td>0</td>\n",
       "      <td>31</td>\n",
       "      <td>6</td>\n",
       "      <td>https://i.scdn.co/image/ab67616d0000b273e85259...</td>\n",
       "    </tr>\n",
       "    <tr>\n",
       "      <th>3</th>\n",
       "      <td>Cruel Summer</td>\n",
       "      <td>Taylor Swift</td>\n",
       "      <td>1</td>\n",
       "      <td>2019</td>\n",
       "      <td>8</td>\n",
       "      <td>23</td>\n",
       "      <td>7858</td>\n",
       "      <td>100</td>\n",
       "      <td>800840817</td>\n",
       "      <td>116</td>\n",
       "      <td>...</td>\n",
       "      <td>A</td>\n",
       "      <td>Major</td>\n",
       "      <td>55</td>\n",
       "      <td>58</td>\n",
       "      <td>72</td>\n",
       "      <td>11</td>\n",
       "      <td>0</td>\n",
       "      <td>11</td>\n",
       "      <td>15</td>\n",
       "      <td>https://i.scdn.co/image/ab67616d0000b273e787cf...</td>\n",
       "    </tr>\n",
       "    <tr>\n",
       "      <th>4</th>\n",
       "      <td>WHERE SHE GOES</td>\n",
       "      <td>Bad Bunny</td>\n",
       "      <td>1</td>\n",
       "      <td>2023</td>\n",
       "      <td>5</td>\n",
       "      <td>18</td>\n",
       "      <td>3133</td>\n",
       "      <td>50</td>\n",
       "      <td>303236322</td>\n",
       "      <td>84</td>\n",
       "      <td>...</td>\n",
       "      <td>A</td>\n",
       "      <td>Minor</td>\n",
       "      <td>65</td>\n",
       "      <td>23</td>\n",
       "      <td>80</td>\n",
       "      <td>14</td>\n",
       "      <td>63</td>\n",
       "      <td>11</td>\n",
       "      <td>6</td>\n",
       "      <td>https://i.scdn.co/image/ab67616d0000b273ab5c9c...</td>\n",
       "    </tr>\n",
       "  </tbody>\n",
       "</table>\n",
       "<p>5 rows × 25 columns</p>\n",
       "</div>"
      ],
      "text/plain": [
       "                            track_name    artist(s)_name  artist_count  \\\n",
       "0  Seven (feat. Latto) (Explicit Ver.)  Latto, Jung Kook             2   \n",
       "1                                 LALA       Myke Towers             1   \n",
       "2                              vampire    Olivia Rodrigo             1   \n",
       "3                         Cruel Summer      Taylor Swift             1   \n",
       "4                       WHERE SHE GOES         Bad Bunny             1   \n",
       "\n",
       "   released_year  released_month  released_day  in_spotify_playlists  \\\n",
       "0           2023               7            14                   553   \n",
       "1           2023               3            23                  1474   \n",
       "2           2023               6            30                  1397   \n",
       "3           2019               8            23                  7858   \n",
       "4           2023               5            18                  3133   \n",
       "\n",
       "   in_spotify_charts    streams  in_apple_playlists  ...  key   mode  \\\n",
       "0                147  141381703                  43  ...    B  Major   \n",
       "1                 48  133716286                  48  ...   C#  Major   \n",
       "2                113  140003974                  94  ...    F  Major   \n",
       "3                100  800840817                 116  ...    A  Major   \n",
       "4                 50  303236322                  84  ...    A  Minor   \n",
       "\n",
       "   danceability_% valence_%  energy_% acousticness_% instrumentalness_%  \\\n",
       "0              80        89        83             31                  0   \n",
       "1              71        61        74              7                  0   \n",
       "2              51        32        53             17                  0   \n",
       "3              55        58        72             11                  0   \n",
       "4              65        23        80             14                 63   \n",
       "\n",
       "   liveness_%  speechiness_%  \\\n",
       "0           8              4   \n",
       "1          10              4   \n",
       "2          31              6   \n",
       "3          11             15   \n",
       "4          11              6   \n",
       "\n",
       "                                           cover_url  \n",
       "0                                          Not Found  \n",
       "1  https://i.scdn.co/image/ab67616d0000b2730656d5...  \n",
       "2  https://i.scdn.co/image/ab67616d0000b273e85259...  \n",
       "3  https://i.scdn.co/image/ab67616d0000b273e787cf...  \n",
       "4  https://i.scdn.co/image/ab67616d0000b273ab5c9c...  \n",
       "\n",
       "[5 rows x 25 columns]"
      ]
     },
     "execution_count": 38,
     "metadata": {},
     "output_type": "execute_result"
    }
   ],
   "source": [
    "df.head()"
   ]
  },
  {
   "cell_type": "markdown",
   "metadata": {},
   "source": [
    "#### View Dataframe information"
   ]
  },
  {
   "cell_type": "code",
   "execution_count": 39,
   "metadata": {},
   "outputs": [
    {
     "name": "stdout",
     "output_type": "stream",
     "text": [
      "<class 'pandas.core.frame.DataFrame'>\n",
      "RangeIndex: 953 entries, 0 to 952\n",
      "Data columns (total 25 columns):\n",
      " #   Column                Non-Null Count  Dtype \n",
      "---  ------                --------------  ----- \n",
      " 0   track_name            953 non-null    object\n",
      " 1   artist(s)_name        953 non-null    object\n",
      " 2   artist_count          953 non-null    int64 \n",
      " 3   released_year         953 non-null    int64 \n",
      " 4   released_month        953 non-null    int64 \n",
      " 5   released_day          953 non-null    int64 \n",
      " 6   in_spotify_playlists  953 non-null    int64 \n",
      " 7   in_spotify_charts     953 non-null    int64 \n",
      " 8   streams               953 non-null    object\n",
      " 9   in_apple_playlists    953 non-null    int64 \n",
      " 10  in_apple_charts       953 non-null    int64 \n",
      " 11  in_deezer_playlists   953 non-null    object\n",
      " 12  in_deezer_charts      953 non-null    int64 \n",
      " 13  in_shazam_charts      903 non-null    object\n",
      " 14  bpm                   953 non-null    int64 \n",
      " 15  key                   858 non-null    object\n",
      " 16  mode                  953 non-null    object\n",
      " 17  danceability_%        953 non-null    int64 \n",
      " 18  valence_%             953 non-null    int64 \n",
      " 19  energy_%              953 non-null    int64 \n",
      " 20  acousticness_%        953 non-null    int64 \n",
      " 21  instrumentalness_%    953 non-null    int64 \n",
      " 22  liveness_%            953 non-null    int64 \n",
      " 23  speechiness_%         953 non-null    int64 \n",
      " 24  cover_url             953 non-null    object\n",
      "dtypes: int64(17), object(8)\n",
      "memory usage: 186.3+ KB\n"
     ]
    }
   ],
   "source": [
    "df.info()"
   ]
  },
  {
   "cell_type": "markdown",
   "metadata": {},
   "source": [
    "#### Exploring columns"
   ]
  },
  {
   "cell_type": "code",
   "execution_count": 40,
   "metadata": {},
   "outputs": [
    {
     "data": {
      "text/plain": [
       "Index(['track_name', 'artist(s)_name', 'artist_count', 'released_year',\n",
       "       'released_month', 'released_day', 'in_spotify_playlists',\n",
       "       'in_spotify_charts', 'streams', 'in_apple_playlists', 'in_apple_charts',\n",
       "       'in_deezer_playlists', 'in_deezer_charts', 'in_shazam_charts', 'bpm',\n",
       "       'key', 'mode', 'danceability_%', 'valence_%', 'energy_%',\n",
       "       'acousticness_%', 'instrumentalness_%', 'liveness_%', 'speechiness_%',\n",
       "       'cover_url'],\n",
       "      dtype='object')"
      ]
     },
     "execution_count": 40,
     "metadata": {},
     "output_type": "execute_result"
    }
   ],
   "source": [
    "# List all column names of the DataFrame\n",
    "df.columns"
   ]
  },
  {
   "cell_type": "markdown",
   "metadata": {},
   "source": [
    "#### Summary-Statistics"
   ]
  },
  {
   "cell_type": "code",
   "execution_count": 41,
   "metadata": {},
   "outputs": [
    {
     "data": {
      "text/html": [
       "<div>\n",
       "<style scoped>\n",
       "    .dataframe tbody tr th:only-of-type {\n",
       "        vertical-align: middle;\n",
       "    }\n",
       "\n",
       "    .dataframe tbody tr th {\n",
       "        vertical-align: top;\n",
       "    }\n",
       "\n",
       "    .dataframe thead th {\n",
       "        text-align: right;\n",
       "    }\n",
       "</style>\n",
       "<table border=\"1\" class=\"dataframe\">\n",
       "  <thead>\n",
       "    <tr style=\"text-align: right;\">\n",
       "      <th></th>\n",
       "      <th>artist_count</th>\n",
       "      <th>released_year</th>\n",
       "      <th>released_month</th>\n",
       "      <th>released_day</th>\n",
       "      <th>in_spotify_playlists</th>\n",
       "      <th>in_spotify_charts</th>\n",
       "      <th>in_apple_playlists</th>\n",
       "      <th>in_apple_charts</th>\n",
       "      <th>in_deezer_charts</th>\n",
       "      <th>bpm</th>\n",
       "      <th>danceability_%</th>\n",
       "      <th>valence_%</th>\n",
       "      <th>energy_%</th>\n",
       "      <th>acousticness_%</th>\n",
       "      <th>instrumentalness_%</th>\n",
       "      <th>liveness_%</th>\n",
       "      <th>speechiness_%</th>\n",
       "    </tr>\n",
       "  </thead>\n",
       "  <tbody>\n",
       "    <tr>\n",
       "      <th>count</th>\n",
       "      <td>953.000000</td>\n",
       "      <td>953.000000</td>\n",
       "      <td>953.000000</td>\n",
       "      <td>953.000000</td>\n",
       "      <td>953.000000</td>\n",
       "      <td>953.000000</td>\n",
       "      <td>953.000000</td>\n",
       "      <td>953.000000</td>\n",
       "      <td>953.000000</td>\n",
       "      <td>953.000000</td>\n",
       "      <td>953.00000</td>\n",
       "      <td>953.000000</td>\n",
       "      <td>953.000000</td>\n",
       "      <td>953.000000</td>\n",
       "      <td>953.000000</td>\n",
       "      <td>953.000000</td>\n",
       "      <td>953.000000</td>\n",
       "    </tr>\n",
       "    <tr>\n",
       "      <th>mean</th>\n",
       "      <td>1.556139</td>\n",
       "      <td>2018.238195</td>\n",
       "      <td>6.033578</td>\n",
       "      <td>13.930745</td>\n",
       "      <td>5200.124869</td>\n",
       "      <td>12.009444</td>\n",
       "      <td>67.812172</td>\n",
       "      <td>51.908709</td>\n",
       "      <td>2.666317</td>\n",
       "      <td>122.540399</td>\n",
       "      <td>66.96957</td>\n",
       "      <td>51.431270</td>\n",
       "      <td>64.279119</td>\n",
       "      <td>27.057712</td>\n",
       "      <td>1.581322</td>\n",
       "      <td>18.213012</td>\n",
       "      <td>10.131165</td>\n",
       "    </tr>\n",
       "    <tr>\n",
       "      <th>std</th>\n",
       "      <td>0.893044</td>\n",
       "      <td>11.116218</td>\n",
       "      <td>3.566435</td>\n",
       "      <td>9.201949</td>\n",
       "      <td>7897.608990</td>\n",
       "      <td>19.575992</td>\n",
       "      <td>86.441493</td>\n",
       "      <td>50.630241</td>\n",
       "      <td>6.035599</td>\n",
       "      <td>28.057802</td>\n",
       "      <td>14.63061</td>\n",
       "      <td>23.480632</td>\n",
       "      <td>16.550526</td>\n",
       "      <td>25.996077</td>\n",
       "      <td>8.409800</td>\n",
       "      <td>13.711223</td>\n",
       "      <td>9.912888</td>\n",
       "    </tr>\n",
       "    <tr>\n",
       "      <th>min</th>\n",
       "      <td>1.000000</td>\n",
       "      <td>1930.000000</td>\n",
       "      <td>1.000000</td>\n",
       "      <td>1.000000</td>\n",
       "      <td>31.000000</td>\n",
       "      <td>0.000000</td>\n",
       "      <td>0.000000</td>\n",
       "      <td>0.000000</td>\n",
       "      <td>0.000000</td>\n",
       "      <td>65.000000</td>\n",
       "      <td>23.00000</td>\n",
       "      <td>4.000000</td>\n",
       "      <td>9.000000</td>\n",
       "      <td>0.000000</td>\n",
       "      <td>0.000000</td>\n",
       "      <td>3.000000</td>\n",
       "      <td>2.000000</td>\n",
       "    </tr>\n",
       "    <tr>\n",
       "      <th>25%</th>\n",
       "      <td>1.000000</td>\n",
       "      <td>2020.000000</td>\n",
       "      <td>3.000000</td>\n",
       "      <td>6.000000</td>\n",
       "      <td>875.000000</td>\n",
       "      <td>0.000000</td>\n",
       "      <td>13.000000</td>\n",
       "      <td>7.000000</td>\n",
       "      <td>0.000000</td>\n",
       "      <td>100.000000</td>\n",
       "      <td>57.00000</td>\n",
       "      <td>32.000000</td>\n",
       "      <td>53.000000</td>\n",
       "      <td>6.000000</td>\n",
       "      <td>0.000000</td>\n",
       "      <td>10.000000</td>\n",
       "      <td>4.000000</td>\n",
       "    </tr>\n",
       "    <tr>\n",
       "      <th>50%</th>\n",
       "      <td>1.000000</td>\n",
       "      <td>2022.000000</td>\n",
       "      <td>6.000000</td>\n",
       "      <td>13.000000</td>\n",
       "      <td>2224.000000</td>\n",
       "      <td>3.000000</td>\n",
       "      <td>34.000000</td>\n",
       "      <td>38.000000</td>\n",
       "      <td>0.000000</td>\n",
       "      <td>121.000000</td>\n",
       "      <td>69.00000</td>\n",
       "      <td>51.000000</td>\n",
       "      <td>66.000000</td>\n",
       "      <td>18.000000</td>\n",
       "      <td>0.000000</td>\n",
       "      <td>12.000000</td>\n",
       "      <td>6.000000</td>\n",
       "    </tr>\n",
       "    <tr>\n",
       "      <th>75%</th>\n",
       "      <td>2.000000</td>\n",
       "      <td>2022.000000</td>\n",
       "      <td>9.000000</td>\n",
       "      <td>22.000000</td>\n",
       "      <td>5542.000000</td>\n",
       "      <td>16.000000</td>\n",
       "      <td>88.000000</td>\n",
       "      <td>87.000000</td>\n",
       "      <td>2.000000</td>\n",
       "      <td>140.000000</td>\n",
       "      <td>78.00000</td>\n",
       "      <td>70.000000</td>\n",
       "      <td>77.000000</td>\n",
       "      <td>43.000000</td>\n",
       "      <td>0.000000</td>\n",
       "      <td>24.000000</td>\n",
       "      <td>11.000000</td>\n",
       "    </tr>\n",
       "    <tr>\n",
       "      <th>max</th>\n",
       "      <td>8.000000</td>\n",
       "      <td>2023.000000</td>\n",
       "      <td>12.000000</td>\n",
       "      <td>31.000000</td>\n",
       "      <td>52898.000000</td>\n",
       "      <td>147.000000</td>\n",
       "      <td>672.000000</td>\n",
       "      <td>275.000000</td>\n",
       "      <td>58.000000</td>\n",
       "      <td>206.000000</td>\n",
       "      <td>96.00000</td>\n",
       "      <td>97.000000</td>\n",
       "      <td>97.000000</td>\n",
       "      <td>97.000000</td>\n",
       "      <td>91.000000</td>\n",
       "      <td>97.000000</td>\n",
       "      <td>64.000000</td>\n",
       "    </tr>\n",
       "  </tbody>\n",
       "</table>\n",
       "</div>"
      ],
      "text/plain": [
       "       artist_count  released_year  released_month  released_day  \\\n",
       "count    953.000000     953.000000      953.000000    953.000000   \n",
       "mean       1.556139    2018.238195        6.033578     13.930745   \n",
       "std        0.893044      11.116218        3.566435      9.201949   \n",
       "min        1.000000    1930.000000        1.000000      1.000000   \n",
       "25%        1.000000    2020.000000        3.000000      6.000000   \n",
       "50%        1.000000    2022.000000        6.000000     13.000000   \n",
       "75%        2.000000    2022.000000        9.000000     22.000000   \n",
       "max        8.000000    2023.000000       12.000000     31.000000   \n",
       "\n",
       "       in_spotify_playlists  in_spotify_charts  in_apple_playlists  \\\n",
       "count            953.000000         953.000000          953.000000   \n",
       "mean            5200.124869          12.009444           67.812172   \n",
       "std             7897.608990          19.575992           86.441493   \n",
       "min               31.000000           0.000000            0.000000   \n",
       "25%              875.000000           0.000000           13.000000   \n",
       "50%             2224.000000           3.000000           34.000000   \n",
       "75%             5542.000000          16.000000           88.000000   \n",
       "max            52898.000000         147.000000          672.000000   \n",
       "\n",
       "       in_apple_charts  in_deezer_charts         bpm  danceability_%  \\\n",
       "count       953.000000        953.000000  953.000000       953.00000   \n",
       "mean         51.908709          2.666317  122.540399        66.96957   \n",
       "std          50.630241          6.035599   28.057802        14.63061   \n",
       "min           0.000000          0.000000   65.000000        23.00000   \n",
       "25%           7.000000          0.000000  100.000000        57.00000   \n",
       "50%          38.000000          0.000000  121.000000        69.00000   \n",
       "75%          87.000000          2.000000  140.000000        78.00000   \n",
       "max         275.000000         58.000000  206.000000        96.00000   \n",
       "\n",
       "        valence_%    energy_%  acousticness_%  instrumentalness_%  liveness_%  \\\n",
       "count  953.000000  953.000000      953.000000          953.000000  953.000000   \n",
       "mean    51.431270   64.279119       27.057712            1.581322   18.213012   \n",
       "std     23.480632   16.550526       25.996077            8.409800   13.711223   \n",
       "min      4.000000    9.000000        0.000000            0.000000    3.000000   \n",
       "25%     32.000000   53.000000        6.000000            0.000000   10.000000   \n",
       "50%     51.000000   66.000000       18.000000            0.000000   12.000000   \n",
       "75%     70.000000   77.000000       43.000000            0.000000   24.000000   \n",
       "max     97.000000   97.000000       97.000000           91.000000   97.000000   \n",
       "\n",
       "       speechiness_%  \n",
       "count     953.000000  \n",
       "mean       10.131165  \n",
       "std         9.912888  \n",
       "min         2.000000  \n",
       "25%         4.000000  \n",
       "50%         6.000000  \n",
       "75%        11.000000  \n",
       "max        64.000000  "
      ]
     },
     "execution_count": 41,
     "metadata": {},
     "output_type": "execute_result"
    }
   ],
   "source": [
    "df.describe()"
   ]
  },
  {
   "cell_type": "markdown",
   "metadata": {},
   "source": [
    "## 2. Data preperation"
   ]
  },
  {
   "cell_type": "markdown",
   "metadata": {},
   "source": [
    "#### Checking for dublicates"
   ]
  },
  {
   "cell_type": "code",
   "execution_count": 42,
   "metadata": {},
   "outputs": [
    {
     "name": "stdout",
     "output_type": "stream",
     "text": [
      "Duplicates in Dataset: 0\n"
     ]
    }
   ],
   "source": [
    "duplicates = sum(df.duplicated())\n",
    "print(f\"Duplicates in Dataset: {duplicates}\")"
   ]
  },
  {
   "cell_type": "markdown",
   "metadata": {},
   "source": [
    "#### Checking for missing values"
   ]
  },
  {
   "cell_type": "code",
   "execution_count": 43,
   "metadata": {},
   "outputs": [
    {
     "name": "stdout",
     "output_type": "stream",
     "text": [
      "in_shazam_charts    50\n",
      "key                 95\n",
      "dtype: int64\n"
     ]
    }
   ],
   "source": [
    "missing_values = df.isnull().sum()\n",
    "print(missing_values[missing_values > 0])"
   ]
  },
  {
   "cell_type": "markdown",
   "metadata": {},
   "source": [
    "#### Dropping missing values"
   ]
  },
  {
   "cell_type": "code",
   "execution_count": 44,
   "metadata": {},
   "outputs": [
    {
     "name": "stdout",
     "output_type": "stream",
     "text": [
      "Series([], dtype: int64)\n"
     ]
    }
   ],
   "source": [
    "# Drop rows with missing values\n",
    "df_cleaned = df.dropna()\n",
    "\n",
    "# Drop cols with missing values\n",
    "df_cleaned.dropna(axis=1)\n",
    "\n",
    "# Check if cleaning worked\n",
    "missing_values = df_cleaned.isnull().sum()\n",
    "print(missing_values[missing_values > 0])"
   ]
  },
  {
   "cell_type": "markdown",
   "metadata": {},
   "source": [
    "#### Identifying Outliers "
   ]
  },
  {
   "cell_type": "code",
   "execution_count": null,
   "metadata": {},
   "outputs": [],
   "source": []
  },
  {
   "cell_type": "markdown",
   "metadata": {},
   "source": [
    "## Deeper Analysis"
   ]
  },
  {
   "cell_type": "markdown",
   "metadata": {},
   "source": [
    "#### What is the distribution of BPM (Beats per Minute)?"
   ]
  },
  {
   "cell_type": "code",
   "execution_count": 50,
   "metadata": {},
   "outputs": [
    {
     "ename": "AttributeError",
     "evalue": "'tuple' object has no attribute 'show'",
     "output_type": "error",
     "traceback": [
      "\u001b[0;31m---------------------------------------------------------------------------\u001b[0m",
      "\u001b[0;31mAttributeError\u001b[0m                            Traceback (most recent call last)",
      "Cell \u001b[0;32mIn[50], line 2\u001b[0m\n\u001b[1;32m      1\u001b[0m fig1 \u001b[38;5;241m=\u001b[39m plt\u001b[38;5;241m.\u001b[39mhist(df_cleaned[\u001b[38;5;124m'\u001b[39m\u001b[38;5;124mbpm\u001b[39m\u001b[38;5;124m'\u001b[39m])\n\u001b[0;32m----> 2\u001b[0m \u001b[43mfig1\u001b[49m\u001b[38;5;241;43m.\u001b[39;49m\u001b[43mshow\u001b[49m()\n",
      "\u001b[0;31mAttributeError\u001b[0m: 'tuple' object has no attribute 'show'"
     ]
    },
    {
     "data": {
      "image/png": "[encoded data removed]",
      "text/plain": [
       "<Figure size 640x480 with 1 Axes>"
      ]
     },
     "metadata": {},
     "output_type": "display_data"
    }
   ],
   "source": []
  }
 ],
 "metadata": {
  "kernelspec": {
   "display_name": "Python 3",
   "language": "python",
   "name": "python3"
  },
  "language_info": {
   "codemirror_mode": {
    "name": "ipython",
    "version": 3
   },
   "file_extension": ".py",
   "mimetype": "text/x-python",
   "name": "python",
   "nbconvert_exporter": "python",
   "pygments_lexer": "ipython3",
   "version": "3.11.8"
  }
 },
 "nbformat": 4,
 "nbformat_minor": 2
}
